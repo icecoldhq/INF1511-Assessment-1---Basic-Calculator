{
 "cells": [
  {
   "cell_type": "markdown",
   "id": "6bb38ce2-8bfc-44ae-b87b-4c7a171ecb42",
   "metadata": {},
   "source": [
    "# 🔢 Basic Calculator – INF1511 Assessment 1\n",
    "Author: Maqhawe Quinton Zondo\n",
    "Date: 25 May 2025\n",
    "Description: A simple Python calculator that supports basic arithmetic, loops until user exits, and validates user input."
   ]
  }
 ],
 "metadata": {
  "kernelspec": {
   "display_name": "Python [conda env:base] *",
   "language": "python",
   "name": "conda-base-py"
  },
  "language_info": {
   "codemirror_mode": {
    "name": "ipython",
    "version": 3
   },
   "file_extension": ".py",
   "mimetype": "text/x-python",
   "name": "python",
   "nbconvert_exporter": "python",
   "pygments_lexer": "ipython3",
   "version": "3.12.7"
  }
 },
 "nbformat": 4,
 "nbformat_minor": 5
}
