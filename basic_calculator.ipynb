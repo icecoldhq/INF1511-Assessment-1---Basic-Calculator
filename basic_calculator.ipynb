{
 "cells": [
  {
   "cell_type": "markdown",
   "id": "6bb38ce2-8bfc-44ae-b87b-4c7a171ecb42",
   "metadata": {},
   "source": [
    "# 🔢 Basic Calculator – INF1511 Assessment 1\n",
    "Author: Maqhawe Quinton Zondo\n",
    "Date: 25 May 2025\n",
    "Description: A simple Python calculator that supports basic arithmetic, loops until user exits, and validates user input."
   ]
  },
  {
   "cell_type": "code",
   "execution_count": 15,
   "id": "e9e2a4bc-1b2b-49a0-9772-d7e10f97342e",
   "metadata": {},
   "outputs": [
    {
     "name": "stdout",
     "output_type": "stream",
     "text": [
      "20\n",
      "Error: Division by zero\n",
      "1\n"
     ]
    }
   ],
   "source": [
    "# Writing Arithmetic Functions\n",
    "\n",
    "def add(a, b):\n",
    "    return a + b\n",
    "\n",
    "def subtract(a, b):\n",
    "    return a - b\n",
    "\n",
    "def multiply(a, b):\n",
    "    return a * b\n",
    "\n",
    "def divide(a, b):\n",
    "    if b == 0:\n",
    "        return \"Error: Division by zero\"\n",
    "    return a / b\n",
    "\n",
    "def remainder(a, b):\n",
    "    if b == 0:\n",
    "        return \"Error: Division by zero\"\n",
    "    return a % b\n",
    "\n",
    "# Test cases\n",
    "\n",
    "print(add(10, 10)) # 5\n",
    "print(divide(4, 0)) # Error\n",
    "print(remainder(10, 3)) # Error"
   ]
  },
  {
   "cell_type": "code",
   "execution_count": 1,
   "id": "844bb9d5-9087-4b40-951d-74f09725e4db",
   "metadata": {},
   "outputs": [
    {
     "ename": "NameError",
     "evalue": "name 'add' is not defined",
     "output_type": "error",
     "traceback": [
      "\u001b[1;31m---------------------------------------------------------------------------\u001b[0m",
      "\u001b[1;31mNameError\u001b[0m                                 Traceback (most recent call last)",
      "Cell \u001b[1;32mIn[1], line 3\u001b[0m\n\u001b[0;32m      1\u001b[0m \u001b[38;5;66;03m# Test cases\u001b[39;00m\n\u001b[1;32m----> 3\u001b[0m \u001b[38;5;28mprint\u001b[39m(add(\u001b[38;5;241m2\u001b[39m, \u001b[38;5;241m3\u001b[39m))\n",
      "\u001b[1;31mNameError\u001b[0m: name 'add' is not defined"
     ]
    }
   ],
   "source": []
  },
  {
   "cell_type": "code",
   "execution_count": null,
   "id": "2e57a28c-5cac-4e67-9ddc-55c5cd019a66",
   "metadata": {},
   "outputs": [],
   "source": []
  }
 ],
 "metadata": {
  "kernelspec": {
   "display_name": "Python [conda env:base] *",
   "language": "python",
   "name": "conda-base-py"
  },
  "language_info": {
   "codemirror_mode": {
    "name": "ipython",
    "version": 3
   },
   "file_extension": ".py",
   "mimetype": "text/x-python",
   "name": "python",
   "nbconvert_exporter": "python",
   "pygments_lexer": "ipython3",
   "version": "3.12.7"
  }
 },
 "nbformat": 4,
 "nbformat_minor": 5
}
