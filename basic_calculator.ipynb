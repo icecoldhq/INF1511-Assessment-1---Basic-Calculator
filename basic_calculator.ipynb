{
 "cells": [
  {
   "cell_type": "markdown",
   "id": "6bb38ce2-8bfc-44ae-b87b-4c7a171ecb42",
   "metadata": {},
   "source": [
    "# 🔢 Basic Calculator – INF1511 Assessment 1\n",
    "Author: Maqhawe Quinton Zondo\n",
    "Date: 25 May 2025\n",
    "Description: A simple Python calculator that supports basic arithmetic, loops until user exits, and validates user input."
   ]
  },
  {
   "cell_type": "markdown",
   "id": "bca15604-3361-4c60-86d4-80d5b53e8fd2",
   "metadata": {},
   "source": [
    "# Overview\n",
    "This first part is about making the features of the calculator program that the user will interact with. This is done by defining clean and testable functions. You can think of these as the \"core functions\" of the program.\n",
    "\n",
    "# Functions\n",
    "The functions below are going to give the calculator program some basic arithmetic. I will be explaining each function, first with its purpose and what it does.\n",
    "\n",
    "1. add(a, b): This function is for Addition. It adds two numbers.\n",
    "2. subtract(a, b): This function is for subtraction. It subtracts two numbers.\n",
    "3. divide(a, b): This function is for division. It divides two numbers.\n",
    "4. remainder(a, b): This function gets the remainder of two numbers.\n",
    "\n",
    "# Input validation\n",
    "The divide and remainder functions have input validation to ensure that: \n",
    "\n",
    "- The calculator program does not have errors or bugs (like run-time)\n",
    "- The calculator program follows basic arithmetic and mathematics rules\n",
    "\n",
    "# Test cases\n",
    "I wanted to test the functions before continuing to build the rest of the program. This is important because it ensures that my functions work well, and it clears up any worry of debugging later from here.\n",
    "\n",
    "# Conclusion\n",
    "The calculator program will be using these core functions for arithmetic logic, and I tested each function towards the end to ensure that there are no bugs."
   ]
  },
  {
   "cell_type": "code",
   "execution_count": 15,
   "id": "e9e2a4bc-1b2b-49a0-9772-d7e10f97342e",
   "metadata": {},
   "outputs": [
    {
     "name": "stdout",
     "output_type": "stream",
     "text": [
      "20\n",
      "Error: Division by zero\n",
      "1\n"
     ]
    }
   ],
   "source": [
    "# Writing Arithmetic Functions\n",
    "\n",
    "def add(a, b):\n",
    "    return a + b\n",
    "\n",
    "def subtract(a, b):\n",
    "    return a - b\n",
    "\n",
    "def multiply(a, b):\n",
    "    return a * b\n",
    "\n",
    "def divide(a, b):\n",
    "    if b == 0:\n",
    "        return \"Error: Division by zero\"\n",
    "    return a / b\n",
    "\n",
    "def remainder(a, b):\n",
    "    if b == 0:\n",
    "        return \"Error: Division by zero\"\n",
    "    return a % b\n",
    "\n",
    "# Test cases\n",
    "\n",
    "print(add(10, 10)) # 20\n",
    "print(divide(4, 0)) # Error: Division by zero\n",
    "print(remainder(10, 3)) # 1"
   ]
  },
  {
   "cell_type": "markdown",
   "id": "66ecc532-d4e7-4404-9987-34cc2e9867b3",
   "metadata": {},
   "source": [
    "# Overview\n",
    "This part is about input handling and validation. This is important to prevent crashes and junk input.\n",
    "\n",
    "# Functions\n",
    "\n",
    "1. get_number(prompt):\n",
    "   - This function takes a number as an input.\n",
    "   - It returns the input as a floating point number\n",
    "   - It rejects any input that is not a number with a simple message.\n",
    "    \n",
    "2. get_operation():\n",
    "    - In this function, arithmetic operations are defined with strings and assigned to an array (variable) called \"ops\".\n",
    "    - This defines the options that the user will interact with in the program.\n",
    "    - A new variable is declared called \"op\" and it's assigned to an input function that prompts the user for an input to select from the arithmetic functions already defined earlier but with symbols as showing.\n",
    "    - It has a loop (while) to enure that the program keeps running until a valid math operation is entered.\n",
    "    - If an invalid operation is entered, it returns a simple message asking the user to enter one of the ones given\n",
    "\n",
    "# Input Handling\n",
    "The two functions have input handling. The first function makes sure that only numbers are entered. And the second function makes sure that only the given maths operations are entered. \n",
    "\n",
    "# Loop logic\n",
    "The second function, \"get_operation()\", has a while loop. This is because I want the calculator program to keep running until the user decides to stop. In this case, the program will keep asking the user for a correct maths operation until it gets it before continuing with calculations.\n",
    "\n",
    "# Conclusion\n",
    "The functions here are for input handling and validation. This helps ensure that the program is persistent and that is follows maths arithmetic with the given functions defined earlier.\n"
   ]
  },
  {
   "cell_type": "code",
   "execution_count": 19,
   "id": "844bb9d5-9087-4b40-951d-74f09725e4db",
   "metadata": {},
   "outputs": [],
   "source": [
    "# Adding functions for input handling & validation\n",
    "\n",
    "def get_number(prompt): # Defining a number input function\n",
    "    while True:\n",
    "        try:\n",
    "            return float(input(prompt))\n",
    "        except ValueError:\n",
    "            print(\"Invalid input. Please enter a valid number.\")\n",
    "\n",
    "def get_operation(): # Defining an operation input function\n",
    "    ops = ['+', '-', '*', '/', '%']\n",
    "    while True:\n",
    "        op = input(\"Choose operation (+, -, *, /, %): \")\n",
    "        if op in ops:\n",
    "                   return op\n",
    "        print(\"Invalid operation. Choose one of +, -, *, /, %.\")"
   ]
  },
  {
   "cell_type": "markdown",
   "id": "d28f0437-7de4-436c-b6e9-6b9a1d9a123a",
   "metadata": {},
   "source": [
    "# Overview\n",
    "This last part is about making the calculaor interactive and persistent with functions.\n",
    "\n",
    "# Functions\n",
    "\n",
    "1. def calculator(): \n",
    "- This is the calculator function that the user will interact with\n",
    "- It prints a welcome message at the beginning\n",
    "- It has a while loop to enure persistency\n",
    "- Within the while loop three variables are declared and assigned values: num1, num2, and op\n",
    "- num1 and num2 both prompt the user for an input and store the value in the \"get_number\" function\n",
    "- The \"get_operation\" function is assigned to the \"op\" function which helps work with the maths operations already defined in the get_operation function\n",
    "- It uses an if statement and elif (else if) statements to make sure that conditions are met and there's proper logic and validation\n",
    "- It prints out the result of the calculation\n",
    "- It asks the user if they want to continue or end the program\n",
    "\n",
    "# Input Handling\n",
    "The calculator function uses all the functions that were made earlier to make it interactive. The function also uses loops and conditional statements to ensure it's consistent.\n",
    "\n",
    "\n",
    "# Loop Logic\n",
    "The while loop works if true and it first has three new variables that are defined and assigned to the functions that were made earlier. The while loop uses conditional statements to make sure that input validation and handling is well. After a result has been displayed on screen, the program prompts the user with a question as to if they want to continue or exit the program.\n",
    "\n",
    "# Conclusion\n",
    "\n",
    "The calculator function makes the calculator program interactive and persistent. This function uses all previous functions to make the calculator program work well.\n"
   ]
  },
  {
   "cell_type": "code",
   "execution_count": 23,
   "id": "d464f8bc-118b-4859-8595-1ebb058c7dca",
   "metadata": {},
   "outputs": [
    {
     "name": "stdout",
     "output_type": "stream",
     "text": [
      "Welcome to the Basic Calulator!\n"
     ]
    },
    {
     "name": "stdin",
     "output_type": "stream",
     "text": [
      "Enter first number:  10\n",
      "Choose operation (+, -, *, /, %):  %\n",
      "Enter second number:  3\n"
     ]
    },
    {
     "name": "stdout",
     "output_type": "stream",
     "text": [
      "Result: 1.0\n"
     ]
    },
    {
     "name": "stdin",
     "output_type": "stream",
     "text": [
      "Do you want to calulate again? (yes/no):  yes\n",
      "Enter first number:  20\n",
      "Choose operation (+, -, *, /, %):  Q\n"
     ]
    },
    {
     "name": "stdout",
     "output_type": "stream",
     "text": [
      "Invalid operation. Choose one of +, -, *, /, %.\n"
     ]
    },
    {
     "name": "stdin",
     "output_type": "stream",
     "text": [
      "Choose operation (+, -, *, /, %):  +\n",
      "Enter second number:  3\n"
     ]
    },
    {
     "name": "stdout",
     "output_type": "stream",
     "text": [
      "Result: 23.0\n"
     ]
    },
    {
     "name": "stdin",
     "output_type": "stream",
     "text": [
      "Do you want to calulate again? (yes/no):  no\n"
     ]
    },
    {
     "name": "stdout",
     "output_type": "stream",
     "text": [
      "Goodbye!\n"
     ]
    }
   ],
   "source": [
    "# Writing the calulator function\n",
    " \n",
    "def calculator(): # Defining the calculator function\n",
    "    print(\"Welcome to the Basic Calulator!\")\n",
    "    while True: # While loop ensures persistence\n",
    "        num1 = get_number(\"Enter first number: \")\n",
    "        op = get_operation()\n",
    "        num2 = get_number(\"Enter second number: \")\n",
    " \n",
    "        if op == '+': # If statements help with input validation and logic\n",
    "            result = add(num1, num2)\n",
    "        elif op == '-':\n",
    "            result = subtract(num1, num2)\n",
    "        elif op == '*':\n",
    "            result = multiply(num1, num2)\n",
    "        elif op == '/':\n",
    "            result = divide(num1, num2)\n",
    "        elif op == '%':\n",
    "            result = remainder(num1, num2)\n",
    "\n",
    "        print(f\"Result: {result}\") # Displaying the result on the screen\n",
    "\n",
    "        again = input(\"Do you want to calculate again? (yes/no): \").lower() # Prompting the user to continue or exit the program\n",
    "        if again not in ['yes', 'y']: # Ensuring that the program only takes 'yes' or 'y' or it exits\n",
    "            print(\"Goodbye!\")\n",
    "            break # Exits the program\n",
    "\n",
    "calculator() # Calling the calculator function and running the program"
   ]
  },
  {
   "cell_type": "code",
   "execution_count": null,
   "id": "3a344d7a-3629-4717-906f-24a3260a7f39",
   "metadata": {},
   "outputs": [],
   "source": []
  }
 ],
 "metadata": {
  "kernelspec": {
   "display_name": "Python [conda env:base] *",
   "language": "python",
   "name": "conda-base-py"
  },
  "language_info": {
   "codemirror_mode": {
    "name": "ipython",
    "version": 3
   },
   "file_extension": ".py",
   "mimetype": "text/x-python",
   "name": "python",
   "nbconvert_exporter": "python",
   "pygments_lexer": "ipython3",
   "version": "3.12.7"
  }
 },
 "nbformat": 4,
 "nbformat_minor": 5
}
